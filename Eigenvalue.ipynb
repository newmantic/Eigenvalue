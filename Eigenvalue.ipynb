{
  "nbformat": 4,
  "nbformat_minor": 0,
  "metadata": {
    "colab": {
      "provenance": [],
      "authorship_tag": "ABX9TyNlAExqUvqTct7a0hgTeboZ",
      "include_colab_link": true
    },
    "kernelspec": {
      "name": "python3",
      "display_name": "Python 3"
    },
    "language_info": {
      "name": "python"
    }
  },
  "cells": [
    {
      "cell_type": "markdown",
      "metadata": {
        "id": "view-in-github",
        "colab_type": "text"
      },
      "source": [
        "<a href=\"https://colab.research.google.com/github/newmantic/Eigenvalue/blob/main/Eigenvalue.ipynb\" target=\"_parent\"><img src=\"https://colab.research.google.com/assets/colab-badge.svg\" alt=\"Open In Colab\"/></a>"
      ]
    },
    {
      "cell_type": "code",
      "execution_count": 1,
      "metadata": {
        "id": "IjDbHRU_tVut"
      },
      "outputs": [],
      "source": [
        "import numpy as np\n",
        "\n",
        "def power_iteration(A, num_simulations: int):\n",
        "    \"\"\"\n",
        "    Power iteration method to find the largest eigenvalue and corresponding eigenvector of a matrix.\n",
        "\n",
        "    :param A: The matrix (numpy array) whose eigenvalue and eigenvector are to be found.\n",
        "    :param num_simulations: The number of iterations to run the power iteration.\n",
        "    :return: A tuple containing the largest eigenvalue and the corresponding eigenvector.\n",
        "    \"\"\"\n",
        "    b_k = np.random.rand(A.shape[1])\n",
        "\n",
        "    for _ in range(num_simulations):\n",
        "        # Calculate the matrix-by-vector product Ab\n",
        "        b_k1 = np.dot(A, b_k)\n",
        "\n",
        "        # Re-normalize the vector\n",
        "        b_k1_norm = np.linalg.norm(b_k1)\n",
        "        b_k = b_k1 / b_k1_norm\n",
        "\n",
        "    # Eigenvalue is approximated by the Rayleigh quotient\n",
        "    eigenvalue = np.dot(b_k.T, np.dot(A, b_k))\n",
        "\n",
        "    return eigenvalue, b_k"
      ]
    },
    {
      "cell_type": "code",
      "source": [
        "def qr_algorithm(A, num_simulations: int):\n",
        "    \"\"\"\n",
        "    QR algorithm to find all eigenvalues of a matrix.\n",
        "\n",
        "    :param A: The matrix (numpy array) whose eigenvalues are to be found.\n",
        "    :param num_simulations: The number of iterations to run the QR algorithm.\n",
        "    :return: A list of eigenvalues.\n",
        "    \"\"\"\n",
        "    A_k = np.copy(A)\n",
        "\n",
        "    for _ in range(num_simulations):\n",
        "        Q, R = np.linalg.qr(A_k)\n",
        "        A_k = np.dot(R, Q)\n",
        "\n",
        "    eigenvalues = np.diag(A_k)\n",
        "    return eigenvalues"
      ],
      "metadata": {
        "id": "HhUORHNetjWd"
      },
      "execution_count": 2,
      "outputs": []
    },
    {
      "cell_type": "code",
      "source": [
        "def test_case_1():\n",
        "    A = np.array([[2, 1],\n",
        "                  [1, 3]])\n",
        "    eigenvalue, eigenvector = power_iteration(A, num_simulations=1000)\n",
        "    print(f\"Largest Eigenvalue: {eigenvalue}\")\n",
        "    print(f\"Corresponding Eigenvector: {eigenvector}\")\n",
        "\n",
        "    # Expected: Eigenvalue around 3.618 and eigenvector [0.5257, 0.8507]\n",
        "\n",
        "test_case_1()"
      ],
      "metadata": {
        "colab": {
          "base_uri": "https://localhost:8080/"
        },
        "id": "foboZwYRtnL6",
        "outputId": "7b1dfc89-228b-4d24-c80e-d974571e0281"
      },
      "execution_count": 3,
      "outputs": [
        {
          "output_type": "stream",
          "name": "stdout",
          "text": [
            "Largest Eigenvalue: 3.6180339887498953\n",
            "Corresponding Eigenvector: [0.52573111 0.85065081]\n"
          ]
        }
      ]
    },
    {
      "cell_type": "code",
      "source": [
        "def test_case_2():\n",
        "    A = np.array([[1, 2, 3],\n",
        "                  [4, 5, 6],\n",
        "                  [7, 8, 9]])\n",
        "    eigenvalues = qr_algorithm(A, num_simulations=100)\n",
        "    print(f\"Eigenvalues: {eigenvalues}\")\n",
        "\n",
        "    # Expected: Eigenvalues (approximate) close to 16.1168, -1.1168, 0 (since the matrix is rank-deficient)\n",
        "\n",
        "test_case_2()"
      ],
      "metadata": {
        "colab": {
          "base_uri": "https://localhost:8080/"
        },
        "id": "We1UnFV6tqZp",
        "outputId": "2195ccc5-47cb-4262-9bfb-dd1846dc08d7"
      },
      "execution_count": 4,
      "outputs": [
        {
          "output_type": "stream",
          "name": "stdout",
          "text": [
            "Eigenvalues: [ 1.61168440e+01 -1.11684397e+00 -3.62597321e-16]\n"
          ]
        }
      ]
    },
    {
      "cell_type": "code",
      "source": [
        "def test_case_3():\n",
        "    np.random.seed(0)\n",
        "    A = np.random.rand(10, 10)\n",
        "    eigenvalue, eigenvector = power_iteration(A, num_simulations=1000)\n",
        "    print(f\"Largest Eigenvalue: {eigenvalue}\")\n",
        "    print(f\"Corresponding Eigenvector: {eigenvector}\")\n",
        "\n",
        "    # Expected: Eigenvalue close to the largest eigenvalue of the random matrix\n",
        "\n",
        "test_case_3()"
      ],
      "metadata": {
        "colab": {
          "base_uri": "https://localhost:8080/"
        },
        "id": "euF7fYe_tsVI",
        "outputId": "6c895c90-3ca0-4330-8454-dd43f2fe38f6"
      },
      "execution_count": 5,
      "outputs": [
        {
          "output_type": "stream",
          "name": "stdout",
          "text": [
            "Largest Eigenvalue: 4.825609508893023\n",
            "Corresponding Eigenvector: [0.40066785 0.37282954 0.39992814 0.35121594 0.25204452 0.27407512\n",
            " 0.2107205  0.32576105 0.26582134 0.23945828]\n"
          ]
        }
      ]
    },
    {
      "cell_type": "code",
      "source": [
        "def test_case_4():\n",
        "    A = np.array([[4, -5],\n",
        "                  [2, -3]])\n",
        "    eigenvalues = qr_algorithm(A, num_simulations=100)\n",
        "    print(f\"Eigenvalues: {eigenvalues}\")\n",
        "\n",
        "    # Expected: Eigenvalues close to 1 and 2 (since the matrix has eigenvalues 1 and 2)\n",
        "\n",
        "test_case_4()"
      ],
      "metadata": {
        "colab": {
          "base_uri": "https://localhost:8080/"
        },
        "id": "R_E9zVtdtvf7",
        "outputId": "ab18bf12-e3f0-4aa8-f777-bdcba52796db"
      },
      "execution_count": 6,
      "outputs": [
        {
          "output_type": "stream",
          "name": "stdout",
          "text": [
            "Eigenvalues: [ 2. -1.]\n"
          ]
        }
      ]
    },
    {
      "cell_type": "code",
      "source": [
        "def test_case_5():\n",
        "    A = np.array([[4, 1, 2],\n",
        "                  [1, 2, 0],\n",
        "                  [2, 0, 3]])\n",
        "    eigenvalue, eigenvector = power_iteration(A, num_simulations=1000)\n",
        "    print(f\"Largest Eigenvalue: {eigenvalue}\")\n",
        "    print(f\"Corresponding Eigenvector: {eigenvector}\")\n",
        "\n",
        "    # Expected: Eigenvalue around 5.17 and eigenvector corresponding to it\n",
        "\n",
        "test_case_5()"
      ],
      "metadata": {
        "colab": {
          "base_uri": "https://localhost:8080/"
        },
        "id": "5JOISX0etxXK",
        "outputId": "59bab68c-c369-4c64-ab4b-eb966a8505e7"
      },
      "execution_count": 7,
      "outputs": [
        {
          "output_type": "stream",
          "name": "stdout",
          "text": [
            "Largest Eigenvalue: 5.732050807568878\n",
            "Corresponding Eigenvector: [0.78867513 0.21132487 0.57735027]\n"
          ]
        }
      ]
    }
  ]
}